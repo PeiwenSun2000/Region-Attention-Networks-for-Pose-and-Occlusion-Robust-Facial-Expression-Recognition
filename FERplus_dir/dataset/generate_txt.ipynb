{
 "cells": [
  {
   "cell_type": "code",
   "execution_count": 7,
   "metadata": {},
   "outputs": [
    {
     "name": "stdout",
     "output_type": "stream",
     "text": [
      "              path  num_pics  label\n",
      "0     7/fer0032220         6      7\n",
      "1     0/fer0032223         6      0\n",
      "2     4/fer0032225         6      4\n",
      "3     0/fer0032226         6      0\n",
      "4     1/fer0032227         6      1\n",
      "...            ...       ...    ...\n",
      "3132  3/fer0035795         6      3\n",
      "3133  0/fer0035797         6      0\n",
      "3134  4/fer0035799         6      4\n",
      "3135  1/fer0035800         6      1\n",
      "3136  0/fer0035801         6      0\n",
      "\n",
      "[3137 rows x 3 columns]\n"
     ]
    }
   ],
   "source": [
    "import pandas as pd\n",
    "import os\n",
    "\n",
    "df1 = pd.read_csv(\"./FERPlus_list/dlib_ferplus_val_center_crop_range_list.txt\", sep=' ', header=None)\n",
    "\n",
    "# print(df1)\n",
    "\n",
    "df2 = pd.read_csv(\"./FERPlus_list/dlib_ferplus_val_center_crop_range_label.txt\", sep=' ', header=None)\n",
    "\n",
    "# print(df2)\n",
    "\n",
    "df_all = pd.merge(df1,df2,left_index=True,right_index=True,how='outer')\n",
    "\n",
    "df_all.columns=['path','num_pics','label']\n",
    "\n",
    "print(df_all)\n",
    "\n",
    "txtpath=\"./FERPlus_test_txts\"\n",
    "for index,row in df_all.iterrows():\n",
    "    space_index = row['path'].find('/')\n",
    "    video_name = row['path'][space_index:]\n",
    "    \n",
    "    if not os.path.exists(txtpath+os.sep+ row['path'][0:space_index]):\n",
    "        os.makedirs(txtpath+os.sep+ row['path'][0:space_index])\n",
    "    \n",
    "    test_list=open(txtpath+os.sep+row['path'][0:space_index]+video_name+\".txt\",'w')\n",
    "    test_label=open(txtpath+os.sep+row['path'][0:space_index]+video_name+\"_label.txt\",'w')\n",
    "\n",
    "    test_list.write(row['path']+\" \"+str(row[\"num_pics\"]))\n",
    "    test_label.write(str(row[\"label\"])) \n",
    "\n",
    "    test_list.close()\n",
    "    test_label.close()"
   ]
  },
  {
   "cell_type": "code",
   "execution_count": null,
   "metadata": {},
   "outputs": [],
   "source": []
  }
 ],
 "metadata": {
  "kernelspec": {
   "display_name": "Python 3 (ipykernel)",
   "language": "python",
   "name": "python3"
  },
  "language_info": {
   "codemirror_mode": {
    "name": "ipython",
    "version": 3
   },
   "file_extension": ".py",
   "mimetype": "text/x-python",
   "name": "python",
   "nbconvert_exporter": "python",
   "pygments_lexer": "ipython3",
   "version": "3.8.5"
  }
 },
 "nbformat": 4,
 "nbformat_minor": 4
}
